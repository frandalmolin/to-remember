{
  "nbformat": 4,
  "nbformat_minor": 0,
  "metadata": {
    "colab": {
      "provenance": [],
      "authorship_tag": "ABX9TyMs3IKzpGQCnRGjugH2KUXi",
      "include_colab_link": true
    },
    "kernelspec": {
      "name": "python3",
      "display_name": "Python 3"
    },
    "language_info": {
      "name": "python"
    }
  },
  "cells": [
    {
      "cell_type": "markdown",
      "metadata": {
        "id": "view-in-github",
        "colab_type": "text"
      },
      "source": [
        "<a href=\"https://colab.research.google.com/github/frandalmolin/to-remember/blob/main/AnalistaDeDadosEBAC.ipynb\" target=\"_parent\"><img src=\"https://colab.research.google.com/assets/colab-badge.svg\" alt=\"Open In Colab\"/></a>"
      ]
    },
    {
      "cell_type": "markdown",
      "source": [
        "Módulo 01"
      ],
      "metadata": {
        "id": "Xy0utK4yvi9Y"
      }
    },
    {
      "cell_type": "code",
      "execution_count": null,
      "metadata": {
        "id": "WlOTxH5FvhFP"
      },
      "outputs": [],
      "source": [
        "print (\"Hello World!\");"
      ]
    },
    {
      "cell_type": "code",
      "source": [
        "idade = 25;\n",
        "print(idade);\n",
        "\n",
        "nome = 'Fran';\n",
        "print(nome);"
      ],
      "metadata": {
        "id": "KstUdW6NyN9O"
      },
      "execution_count": null,
      "outputs": []
    },
    {
      "cell_type": "code",
      "source": [
        "preco = 1300;\n",
        "tipo_preco = type(preco);\n",
        "\n",
        "print(preco);\n",
        "print(tipo_preco);\n",
        "\n",
        "juros = 0.25;\n",
        "tipo_juros = type(juros);\n",
        "\n",
        "print(juros);\n",
        "print(tipo_juros);\n",
        "\n",
        "pais = 'Brasil';\n",
        "tipo_pais = type(pais);\n",
        "\n",
        "print(pais);\n",
        "print(tipo_pais);\n",
        "\n",
        "usuario_maior_de_idade = True;\n",
        "\n",
        "print(usuario_maior_de_idade);\n",
        "print(type(usuario_maior_de_idade));\n",
        "\n",
        "telefone_fixo = None;\n",
        "\n",
        "print(telefone_fixo);\n",
        "print(type(telefone_fixo));\n"
      ],
      "metadata": {
        "id": "g9N3LFoazRhD"
      },
      "execution_count": null,
      "outputs": []
    },
    {
      "cell_type": "code",
      "source": [
        "print(type(37));\n",
        "print(type(0.25));\n",
        "print(type(1 + 2j));"
      ],
      "metadata": {
        "id": "af1epYg31dWz"
      },
      "execution_count": null,
      "outputs": []
    },
    {
      "cell_type": "code",
      "source": [
        "qtd_itens_carrinho_compra = 0;\n",
        "qtd_itens_carrinho_compra += 1;\n",
        "qtd_itens_carrinho_compra +=1;\n",
        "\n",
        "print(qtd_itens_carrinho_compra);\n",
        "\n",
        "qtd_itens_carrinho_compra -= 1;\n",
        "\n",
        "print(qtd_itens_carrinho_compra);"
      ],
      "metadata": {
        "id": "-l6J58k52GMO"
      },
      "execution_count": null,
      "outputs": []
    },
    {
      "cell_type": "code",
      "source": [
        "preco = 47;\n",
        "qtd = 0.250;\n",
        "\n",
        "total_a_pagar = qtd * preco;\n",
        "print(total_a_pagar);"
      ],
      "metadata": {
        "id": "0ZyCYmTB3EZW"
      },
      "execution_count": null,
      "outputs": []
    },
    {
      "cell_type": "code",
      "source": [
        "a = 3;\n",
        "b = 2;\n",
        "\n",
        "c = a/b;\n",
        "d = a//b;\n",
        "\n",
        "print(c);\n",
        "print(d);"
      ],
      "metadata": {
        "id": "j5qz3jEV3v78"
      },
      "execution_count": null,
      "outputs": []
    },
    {
      "cell_type": "code",
      "source": [
        "print(int(3.9));\n",
        "print(float(10));\n",
        "print(complex(1));"
      ],
      "metadata": {
        "id": "o5SGpwej4CA-"
      },
      "execution_count": null,
      "outputs": []
    },
    {
      "cell_type": "markdown",
      "source": [
        "dia: 19\n",
        "svv: soma das vendas do dia\n",
        "sq: soma da quantidade de vendas do dia\n",
        "tkt: ticket medio do dia"
      ],
      "metadata": {
        "id": "DFKsWONK491-"
      }
    },
    {
      "cell_type": "code",
      "source": [
        "svv_19 = 153.96;\n",
        "sq_19 = 3;\n",
        "\n",
        "tkt = svv_19 / sq_19;\n",
        "print(tkt);"
      ],
      "metadata": {
        "id": "ZGl4ApEc4oLe"
      },
      "execution_count": null,
      "outputs": []
    },
    {
      "cell_type": "code",
      "source": [
        "nome = 'Francine';\n",
        "sobrenome = 'Dalmolin dos Santos';\n",
        "\n",
        "apresentacao = 'Olá! Meu nome é ' + nome + ' ' + sobrenome + '.'"
      ],
      "metadata": {
        "id": "0tuNP9QxA9Gp"
      },
      "execution_count": null,
      "outputs": []
    },
    {
      "cell_type": "code",
      "source": [
        "nome = 'Francine';\n",
        "sobrenome = 'Dalmolin dos Santos';\n",
        "\n",
        "apresentacao = f'Olá, meu nome é {nome} {sobrenome}.'\n",
        "\n",
        "print(apresentacao);"
      ],
      "metadata": {
        "id": "WDlgO-_VBQqc"
      },
      "execution_count": null,
      "outputs": []
    },
    {
      "cell_type": "code",
      "source": [
        "email = 'andre.perez@gmail.com'\n",
        "\n",
        "print('0: ' + email[0]);\n",
        "print('11: ' + email[11]);\n",
        "\n",
        "print('-1: ' + email[-1]);\n",
        "print('-2: ' + email[-2]);\n",
        "\n",
        "email_usuario = email[0:11];\n",
        "email_provedor = email[12:21];\n",
        "\n",
        "print(email_usuario);\n",
        "print(email_provedor);"
      ],
      "metadata": {
        "id": "DWK5gwROB-Ak"
      },
      "execution_count": null,
      "outputs": []
    },
    {
      "cell_type": "code",
      "source": [
        "endereco = 'Avenida Paulista, 1811, São Paulo, São Paulo, Brasil.'\n",
        "\n",
        "print(endereco.upper());\n",
        "\n",
        "posicao = endereco.find('Brasil');\n",
        "print(posicao);\n"
      ],
      "metadata": {
        "id": "qa_6_7F1DqO9"
      },
      "execution_count": null,
      "outputs": []
    },
    {
      "cell_type": "code",
      "source": [
        "idade = 19;\n",
        "print(type(idade));\n",
        "\n",
        "idade = str(idade);\n",
        "print(type(idade));"
      ],
      "metadata": {
        "id": "9OhZoLuoEfor"
      },
      "execution_count": null,
      "outputs": []
    },
    {
      "cell_type": "code",
      "source": [
        "faturamento = '35 mil';\n",
        "print(faturamento);\n",
        "print(type(faturamento));\n",
        "\n"
      ],
      "metadata": {
        "id": "cpy_gZRYEtgz"
      },
      "execution_count": null,
      "outputs": []
    },
    {
      "cell_type": "code",
      "source": [
        "usuario = 'andre.perez';\n",
        "senha = 'andre123';\n",
        "\n",
        "usuario_cadastro = 'andre.perez';\n",
        "senha_cadastro = 'andre321';\n",
        "\n",
        "usuario_igual = usuario == usuario_cadastro;\n",
        "senha_igual = senha == senha_cadastro;\n",
        "\n",
        "print(usuario_igual);\n",
        "print(senha_igual);\n",
        "\n",
        "conceder_acesso = usuario_igual & senha_igual;\n",
        "print(conceder_acesso)"
      ],
      "metadata": {
        "id": "4txVIaQDG0xl"
      },
      "execution_count": null,
      "outputs": []
    },
    {
      "cell_type": "code",
      "source": [
        "saldo_em_conta = 200;\n",
        "valor_do_saque = 100;\n",
        "\n",
        "pode_executar_saque = valor_do_saque <= saldo_em_conta;\n",
        "print(pode_executar_saque);"
      ],
      "metadata": {
        "id": "dJXdT5j4H17Y"
      },
      "execution_count": null,
      "outputs": []
    },
    {
      "cell_type": "code",
      "source": [
        "codigo_de_seguranca = '852';\n",
        "codigo_de_seguranca_cadastro = '010';\n",
        "\n",
        "pode_efetuar_pgamento = codigo_de_seguranca == codigo_de_seguranca_cadastro;\n",
        "print(pode_efetuar_pgamento);"
      ],
      "metadata": {
        "id": "ePqIwjM9IR7D"
      },
      "execution_count": null,
      "outputs": []
    }
  ]
}