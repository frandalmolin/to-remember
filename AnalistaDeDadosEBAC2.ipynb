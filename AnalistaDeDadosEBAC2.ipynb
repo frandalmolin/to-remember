{
  "nbformat": 4,
  "nbformat_minor": 0,
  "metadata": {
    "colab": {
      "provenance": [],
      "authorship_tag": "ABX9TyP2iC1a3VYa2SHs9OQ4OmbK",
      "include_colab_link": true
    },
    "kernelspec": {
      "name": "python3",
      "display_name": "Python 3"
    },
    "language_info": {
      "name": "python"
    }
  },
  "cells": [
    {
      "cell_type": "markdown",
      "metadata": {
        "id": "view-in-github",
        "colab_type": "text"
      },
      "source": [
        "<a href=\"https://colab.research.google.com/github/frandalmolin/to-remember/blob/main/AnalistaDeDadosEBAC2.ipynb\" target=\"_parent\"><img src=\"https://colab.research.google.com/assets/colab-badge.svg\" alt=\"Open In Colab\"/></a>"
      ]
    },
    {
      "cell_type": "markdown",
      "source": [
        "Módulo 2"
      ],
      "metadata": {
        "id": "tbwkZ3Kt0xxv"
      }
    },
    {
      "cell_type": "code",
      "execution_count": null,
      "metadata": {
        "id": "2co6hchr0sdq"
      },
      "outputs": [],
      "source": [
        "dia_11_saldo_inicial = 1000;\n",
        "\n",
        "dia_11_transacao1 = 243;\n",
        "dia_11_transacao2 = -648.85;\n",
        "dia_11_transacao3 = 427.12;\n",
        "dia_11_transacao4 = -10.91;\n",
        "\n",
        "dia_11_saldo_final = dia_11_transacao1 + dia_11_transacao2 + dia_11_transacao3 + dia_11_transacao4\n",
        "\n",
        "print(dia_11_saldo_final);"
      ]
    },
    {
      "cell_type": "code",
      "source": [
        "usuario_web = ['André Perez', 'andre.perez', 'andre123', 'andre.perez@gmail.com'];\n",
        "\n",
        "print(usuario_web);\n",
        "print(type(usuario_web));\n",
        "\n",
        "idade = 20;\n",
        "saldo_em_conta = 723.15;\n",
        "usuario_loggedin = True;\n",
        "\n",
        "usuario_web = ['André Perez', idade, 'andre.perez', 'andre123', 'andre.perez@gmail.com'], saldo_em_conta, usuario_loggedin;\n",
        "\n",
        "print(usuario_web);\n",
        "print(type(usuario_web));"
      ],
      "metadata": {
        "id": "9tpwkFwW2A0Q"
      },
      "execution_count": null,
      "outputs": []
    },
    {
      "cell_type": "code",
      "source": [],
      "metadata": {
        "id": "vchI1c8q3RX_"
      },
      "execution_count": null,
      "outputs": []
    },
    {
      "cell_type": "code",
      "source": [
        "fabricantes_mobile_china = ['xiaomi', 'hawei'];\n",
        "fabricantes_mobile_eua = ['apple', 'motorola'];\n",
        "fabricantes_mobile = fabricantes_mobile_china + fabricantes_mobile_eua;\n",
        "\n",
        "print(fabricantes_mobile_china);\n",
        "print(fabricantes_mobile_eua);\n",
        "print(fabricantes_mobile);\n",
        "\n",
        "fabricantes_mobile_china = fabricantes_mobile[0:2];\n",
        "fabricantes_mobile_eua = fabricantes_mobile[2:len(fabricantes_mobile)];\n",
        "\n",
        "print('china:' + str(fabricantes_mobile_china))\n",
        "print('eua:' + str(fabricantes_mobile_eua))\n",
        "\n",
        "fabricantes_mobile[2] = 'nokia';\n",
        "print(fabricantes_mobile);"
      ],
      "metadata": {
        "id": "wUlCM7b73GeL"
      },
      "execution_count": null,
      "outputs": []
    },
    {
      "cell_type": "code",
      "source": [
        "juros = [0.05, 0.07, 0.02, 0.04, 0.08];\n",
        "print(juros);\n",
        "\n",
        "juros.insert(0, 0.10);\n",
        "print(juros);\n",
        "\n",
        "juros.append(0.09);\n",
        "print(juros);\n",
        "\n",
        "juros.remove(0.1);\n",
        "print(juros);\n",
        "\n",
        "terceiro_juros = juros.pop(2);\n",
        "print(terceiro_juros);"
      ],
      "metadata": {
        "id": "Km_0BM5E5Da2"
      },
      "execution_count": null,
      "outputs": []
    },
    {
      "cell_type": "code",
      "source": [
        "email = 'andre.perez@gmail.com';\n",
        "caracteres_email = list(email);\n",
        "\n",
        "print(email);\n",
        "print(caracteres_email);"
      ],
      "metadata": {
        "id": "MAGoda_96_HM"
      },
      "execution_count": null,
      "outputs": []
    },
    {
      "cell_type": "code",
      "source": [
        "dia_11_saldo_inicial = 1000;\n",
        "\n",
        "dia_11_transacoes = [];\n",
        "dia_11_transacoes.append(243);\n",
        "dia_11_transacoes.append(-648.85);\n",
        "dia_11_transacoes.append(427.12);\n",
        "dia_11_transacoes.append(-10.90);\n",
        "\n",
        "print(dia_11_transacoes);\n",
        "\n",
        "dia_11_saldo_final = dia_11_transacao1 + dia_11_transacao2 + dia_11_transacao3 + dia_11_transacao4\n",
        "\n",
        "print(dia_11_saldo_final);"
      ],
      "metadata": {
        "id": "ijdUgDNB7vo8"
      },
      "execution_count": null,
      "outputs": []
    },
    {
      "cell_type": "code",
      "source": [
        "hashtags_seg = ['#tiago', '#joao', '#bbb'];\n",
        "hashtags_ter = ['#sara', '#bbb', '#fiuk'];\n",
        "hashtags_qua = ['#gil', '#thelma', '#lourdes'];\n",
        "hashtags_qui = ['#rafa', '#fora', '#danilo'];\n",
        "hashtags_sex = ['#juliette', '#arthur', '#bbb'];\n",
        "\n",
        "hashtags_semana = hashtags_seg + hashtags_ter + hashtags_qua + hashtags_qui + hashtags_sex;\n",
        "\n",
        "print(hashtags_semana);\n",
        "print(len(hashtags_semana));\n",
        "\n",
        "hashtags_semana = list(set(hashtags_seg + hashtags_ter + hashtags_qua + hashtags_qui + hashtags_sex));\n",
        "\n",
        "print(hashtags_semana);\n",
        "print(len(hashtags_semana));\n"
      ],
      "metadata": {
        "colab": {
          "base_uri": "https://localhost:8080/"
        },
        "id": "5SATh8nk8-Sj",
        "outputId": "7437b609-4742-4360-c920-4a34b062b600"
      },
      "execution_count": 31,
      "outputs": [
        {
          "output_type": "stream",
          "name": "stdout",
          "text": [
            "['#tiago', '#joao', '#bbb', '#sara', '#bbb', '#fiuk', '#gil', '#thelma', '#lourdes', '#rafa', '#fora', '#danilo', '#juliette', '#arthur', '#bbb']\n",
            "15\n",
            "['#bbb', '#fora', '#juliette', '#fiuk', '#tiago', '#joao', '#sara', '#danilo', '#arthur', '#thelma', '#lourdes', '#rafa', '#gil']\n",
            "13\n"
          ]
        }
      ]
    },
    {
      "cell_type": "code",
      "source": [
        "frutas = {'banana', 'maca', 'uva', 'uva'};\n",
        "\n",
        "print(frutas);\n",
        "print(type(frutas));"
      ],
      "metadata": {
        "id": "ib_d90vC9cZ0"
      },
      "execution_count": null,
      "outputs": []
    },
    {
      "cell_type": "code",
      "source": [
        "norte_europa = {'reino unido', 'suecia', 'russia', 'noruega', 'dinamarca'};\n",
        "escandinavia = {'noruega', 'dinamarca', 'suecia'};\n",
        "\n",
        "norte_europa_nao_escandinavo = norte_europa - escandinavia;\n",
        "print(norte_europa_nao_escandinavo);\n",
        "\n",
        "escandinavo_nao_norte_europa = escandinavia - norte_europa;\n",
        "print(escandinavo_nao_norte_europa);"
      ],
      "metadata": {
        "id": "X6l2Tu2T9_yD"
      },
      "execution_count": null,
      "outputs": []
    },
    {
      "cell_type": "code",
      "source": [
        "cursos = {'exatas', 'humanas', 'biologicas'};\n",
        "print(cursos);\n",
        "\n",
        "cursos.add('saude');\n",
        "print(cursos);\n",
        "\n",
        "cursos.remove('saude');\n",
        "print(cursos);"
      ],
      "metadata": {
        "id": "8yLKEU1e-2kf"
      },
      "execution_count": null,
      "outputs": []
    },
    {
      "cell_type": "code",
      "source": [
        "times_paulistas = {'são paulo', 'palmeiras', 'santos', 'corinthians'};\n",
        "\n",
        "print(times_paulistas);\n",
        "print(type(times_paulistas));\n",
        "\n",
        "print(list(times_paulistas));\n",
        "print(type(list(times_paulistas)));"
      ],
      "metadata": {
        "colab": {
          "base_uri": "https://localhost:8080/"
        },
        "id": "gYfXg-wu_MS1",
        "outputId": "b763f65a-4301-4281-820a-c29f2fdb879f"
      },
      "execution_count": 28,
      "outputs": [
        {
          "output_type": "stream",
          "name": "stdout",
          "text": [
            "{'corinthians', 'são paulo', 'palmeiras', 'santos'}\n",
            "<class 'set'>\n",
            "['corinthians', 'são paulo', 'palmeiras', 'santos']\n",
            "<class 'list'>\n"
          ]
        }
      ]
    },
    {
      "cell_type": "code",
      "source": [
        "brasil = {'capital' : 'Brasilia', 'idioma' : 'Português', 'população' : 210};\n",
        "\n",
        "print(brasil);\n",
        "print(type(brasil));"
      ],
      "metadata": {
        "colab": {
          "base_uri": "https://localhost:8080/"
        },
        "id": "95SHk9uWB6Ku",
        "outputId": "c0451cc2-26c2-4ba9-aee0-48b50f5100e4"
      },
      "execution_count": 32,
      "outputs": [
        {
          "output_type": "stream",
          "name": "stdout",
          "text": [
            "{'capital': 'Brasilia', 'idioma': 'português', 'população': 210}\n",
            "<class 'dict'>\n"
          ]
        }
      ]
    },
    {
      "cell_type": "code",
      "source": [
        "cadastro = {\n",
        "    'andre': {\n",
        "        'nome': 'André Perez',\n",
        "        'ano_nascimento': 1992,\n",
        "        'pais': {\n",
        "            'pai': {\n",
        "                'nome': '<nome-do-pai> Perez',\n",
        "                'ano_nascimento': 1971\n",
        "            },\n",
        "            'mãe': {\n",
        "                'nome': '<nome-da-mãe Perez',\n",
        "                'ano_nascimento': 1973\n",
        "            },\n",
        "        }\n",
        "    }\n",
        "}\n",
        "\n",
        "print(cadastro);\n",
        "\n",
        "cadastro ['andre']['pais']['pai']['ano_nascimento']"
      ],
      "metadata": {
        "colab": {
          "base_uri": "https://localhost:8080/"
        },
        "id": "F7O3y6iACwYm",
        "outputId": "81c1f0cc-3fe2-4ffd-90bd-09d7c54f32b9"
      },
      "execution_count": 38,
      "outputs": [
        {
          "output_type": "stream",
          "name": "stdout",
          "text": [
            "{'andre': {'nome': 'André Perez', 'ano_nascimento': 1992, 'pais': {'pai': {'nome': '<nome-do-pai> Perez', 'ano_nascimento': 1971}, 'mãe': {'nome': '<nome-da-mãe Perez', 'ano_nascimento': 1973}}}}\n"
          ]
        },
        {
          "output_type": "execute_result",
          "data": {
            "text/plain": [
              "1971"
            ]
          },
          "metadata": {},
          "execution_count": 38
        }
      ]
    },
    {
      "cell_type": "code",
      "source": [
        "credito = {'123': 750, '789': 920};\n",
        "\n",
        "score_123 = credito['123'];\n",
        "score_789 = credito['789'];\n",
        "\n",
        "print(score_123);\n",
        "print(score_789);\n",
        "\n",
        "credito['123'] = 435;\n",
        "print(credito);\n",
        "\n",
        "credito['456'] = 1000;\n",
        "print(credito);"
      ],
      "metadata": {
        "colab": {
          "base_uri": "https://localhost:8080/"
        },
        "id": "1iObx7JTEzny",
        "outputId": "f88c5f8b-7275-42c8-8f19-6f423738da5a"
      },
      "execution_count": 42,
      "outputs": [
        {
          "output_type": "stream",
          "name": "stdout",
          "text": [
            "750\n",
            "920\n",
            "{'123': 435, '789': 920}\n",
            "{'123': 435, '789': 920, '456': 1000}\n"
          ]
        }
      ]
    },
    {
      "cell_type": "code",
      "source": [
        "artigo = dict(\n",
        " titulo='Modulo 02 | Python: Estruturas de Dados',\n",
        " corpo='Topicos, Aulas, Listas, Conjuntos, Dicionários, ...',\n",
        " total_caracteres=1530\n",
        ")\n",
        "\n",
        "chaves = list(artigo.keys())\n",
        "\n",
        "print(chaves);\n",
        "print(type(chaves));\n",
        "\n",
        "valores = list(artigo.values())\n",
        "print(valores);\n",
        "print(type(valores));"
      ],
      "metadata": {
        "colab": {
          "base_uri": "https://localhost:8080/"
        },
        "id": "GujhGNfZGtDC",
        "outputId": "89638cac-087b-420c-fe89-505b8332c426"
      },
      "execution_count": 44,
      "outputs": [
        {
          "output_type": "stream",
          "name": "stdout",
          "text": [
            "['titulo', 'corpo', 'total_caracteres']\n",
            "<class 'list'>\n",
            "['Modulo 02 | Python: Estruturas de Dados', 'Topicos, Aulas, Listas, Conjuntos, Dicionários, ...', 1530]\n",
            "<class 'list'>\n"
          ]
        }
      ]
    },
    {
      "cell_type": "code",
      "source": [
        "wifi_disponiveis = [];\n",
        "\n",
        "rede = {'nome': 'redel', 'senha': 'cnx_cnx'};\n",
        "wifi_disponiveis.append(rede);\n",
        "\n",
        "rede = {'nome': 'uai fai', 'senha': 'r3d3'};\n",
        "wifi_disponiveis.append(rede);\n",
        "\n",
        "print(wifi_disponiveis);"
      ],
      "metadata": {
        "colab": {
          "base_uri": "https://localhost:8080/"
        },
        "id": "N-CBskVXHXHd",
        "outputId": "448b9db7-d135-4f98-f408-d5143452e6da"
      },
      "execution_count": 45,
      "outputs": [
        {
          "output_type": "stream",
          "name": "stdout",
          "text": [
            "[{'nome': 'redel', 'senha': 'cnx_cnx'}, {'nome': 'uai fai', 'senha': 'r3d3'}]\n"
          ]
        }
      ]
    },
    {
      "cell_type": "markdown",
      "source": [
        "Exercícios"
      ],
      "metadata": {
        "id": "8jgKC_GAH7Hz"
      }
    },
    {
      "cell_type": "code",
      "source": [
        "filmes = ['Round 6', 'Nosferatu', 'Operação Natal', 'Bagagem de Risco', 'Superman'];\n",
        "\n",
        "filmes.insert(0, 'Nosferatu');\n",
        "filmes.pop(2);\n",
        "print(filmes);"
      ],
      "metadata": {
        "colab": {
          "base_uri": "https://localhost:8080/"
        },
        "id": "XJggbKiaH8uC",
        "outputId": "af091f82-312d-4c09-c651-0da3febc6945"
      },
      "execution_count": 47,
      "outputs": [
        {
          "output_type": "stream",
          "name": "stdout",
          "text": [
            "['Nosferatu', 'Round 6', 'Operação Natal', 'Bagagem de Risco', 'Superman']\n"
          ]
        }
      ]
    },
    {
      "cell_type": "code",
      "source": [
        "filmes = ['Round 6', 'Nosferatu', 'Operação Natal', 'Bagagem de Risco', 'Superman', 'Superman', 'Superman'];\n",
        "\n",
        "print(filmes);\n",
        "\n",
        "filmes = list(set(filmes));\n",
        "\n",
        "print(filmes);"
      ],
      "metadata": {
        "colab": {
          "base_uri": "https://localhost:8080/"
        },
        "id": "TBhp4cNKJTli",
        "outputId": "5df6f74f-64fb-402c-bb24-ef3f2c6204c9"
      },
      "execution_count": 50,
      "outputs": [
        {
          "output_type": "stream",
          "name": "stdout",
          "text": [
            "['Round 6', 'Nosferatu', 'Operação Natal', 'Bagagem de Risco', 'Superman', 'Superman', 'Superman']\n",
            "['Operação Natal', 'Bagagem de Risco', 'Round 6', 'Superman', 'Nosferatu']\n"
          ]
        }
      ]
    },
    {
      "cell_type": "code",
      "source": [
        "filmes = [];\n",
        "\n",
        "filme = {'nome': 'Round 6', 'ano': 2025, 'sinopse': 'pipipi popopo'};\n",
        "filmes.append(filme);\n",
        "\n",
        "filme = {'nome': 'Nosferatu', 'ano': 2025, 'sinopse': 'pipipi popopo'};\n",
        "filmes.append(filme);\n",
        "\n",
        "filme = {'nome': 'Operação Natal', 'ano': 2025, 'sinopse': 'pipipi popopo'};\n",
        "filmes.append(filme);\n",
        "\n",
        "print(filmes);"
      ],
      "metadata": {
        "colab": {
          "base_uri": "https://localhost:8080/"
        },
        "id": "K6uzdo_NKNik",
        "outputId": "88e3f327-9516-4915-c02f-981838eafa85"
      },
      "execution_count": 53,
      "outputs": [
        {
          "output_type": "stream",
          "name": "stdout",
          "text": [
            "[{'nome': 'Round 6', 'ano': 2025, 'sinopse': 'pipipi popopo'}, {'nome': 'Nosferatu', 'ano': 2025, 'sinopse': 'pipipi popopo'}, {'nome': 'Operação Natal', 'ano': 2025, 'sinopse': 'pipipi popopo'}]\n"
          ]
        }
      ]
    }
  ]
}