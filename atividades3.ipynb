{
  "nbformat": 4,
  "nbformat_minor": 0,
  "metadata": {
    "colab": {
      "provenance": [],
      "authorship_tag": "ABX9TyNlaCa8B0e1BewOp0vKK9KJ",
      "include_colab_link": true
    },
    "kernelspec": {
      "name": "python3",
      "display_name": "Python 3"
    },
    "language_info": {
      "name": "python"
    }
  },
  "cells": [
    {
      "cell_type": "markdown",
      "metadata": {
        "id": "view-in-github",
        "colab_type": "text"
      },
      "source": [
        "<a href=\"https://colab.research.google.com/github/frandalmolin/to-remember/blob/main/atividades3.ipynb\" target=\"_parent\"><img src=\"https://colab.research.google.com/assets/colab-badge.svg\" alt=\"Open In Colab\"/></a>"
      ]
    },
    {
      "cell_type": "markdown",
      "source": [
        "Exercícios"
      ],
      "metadata": {
        "id": "RoHaAmH78l6V"
      }
    },
    {
      "cell_type": "code",
      "execution_count": null,
      "metadata": {
        "id": "rOcJKlpd8fAf"
      },
      "outputs": [],
      "source": [
        "%%writefile carros.csv\n",
        "id,valor_venda,valor_manutencao,portas,pessoas,porta_malas\n",
        "1,vhigh,med,2,2,small\n",
        "2,med,vhigh,2,2,small\n",
        "3,low,vhigh,2,2,small\n",
        "4,low,high,2,2,small\n",
        "5,low,high,2,2,small\n",
        "6,low,high,4,4,big\n",
        "7,low,high,4,4,big\n",
        "8,low,med,2,2,small\n",
        "9,low,med,2,2,small\n",
        "10,low,med,2,2,small\n",
        "11,low,med,4,4,big\n",
        "12,low,low,2,2,small\n",
        "13,low,low,4,4,small\n",
        "14,low,low,4,4,med"
      ]
    },
    {
      "cell_type": "code",
      "source": [
        "def extrai_coluna_csv(nome_arquivo: str, indice_coluna: int):\n",
        "    coluna = []\n",
        "\n",
        "    with open(nome_arquivo, mode='r', encoding='utf8') as arquivo:\n",
        "\n",
        "        arquivo.readline()\n",
        "\n",
        "        for linha in arquivo:\n",
        "            dados = linha.strip().split(',')\n",
        "            coluna.append(dados[indice_coluna])\n",
        "\n",
        "    return coluna\n",
        "\n",
        "pessoas = extrai_coluna_csv('carros.csv', 4)\n",
        "print(pessoas)\n",
        "\n",
        "\n"
      ],
      "metadata": {
        "id": "dtE7GY0-9VI9"
      },
      "execution_count": null,
      "outputs": []
    },
    {
      "cell_type": "code",
      "source": [
        "%%writefile musica.txt\n",
        "Roda Viva\n",
        "Chico Buarque\n",
        "Tem dias que a gente se sente\n",
        "Como quem partiu ou morreu\n",
        "A gente estancou de repente\n",
        "Ou foi o mundo então que cresceu\n",
        "A gente quer ter voz ativa\n",
        "No nosso destino mandar\n",
        "Mas eis que chega a roda viva\n",
        "E carrega o destino pra lá\n",
        "Roda mundo, roda-gigante\n",
        "Roda moinho, roda pião\n",
        "O tempo rodou num instante\n",
        "Nas voltas do meu coração\n",
        "A gente vai contra a corrente\n",
        "Até não poder resistir\n",
        "Na volta do barco é que sente\n",
        "O quanto deixou de cumprir\n",
        "Faz tempo que a gente cultiva\n",
        "A mais linda roseira que há\n",
        "Mas eis que chega a roda viva\n",
        "E carrega a roseira pra lá\n",
        "Roda mundo, roda-gigante\n",
        "Roda moinho, roda pião\n"
      ],
      "metadata": {
        "id": "fEEgtfvB8yKW"
      },
      "execution_count": null,
      "outputs": []
    },
    {
      "cell_type": "code",
      "source": [
        "def extrai_linha_txt( nome_arquivo: str, numero_linha: int):\n",
        "  palavras_linha = []\n",
        "\n",
        "  with open(file='./musica.txt', mode='r', encoding='utf8') as leitura:\n",
        "    linhas = leitura.readlines()\n",
        "\n",
        "    if numero_linha < len(linhas):\n",
        "      linha = linhas[numero_linha].strip()\n",
        "      palavras = linha.split()\n",
        "      palavras_linha.extend(palavras)\n",
        "\n",
        "  return palavras_linha\n",
        "\n",
        "palavras = extrai_linha_txt('musica.txt', 1)\n",
        "print(palavras)\n"
      ],
      "metadata": {
        "colab": {
          "base_uri": "https://localhost:8080/"
        },
        "id": "rRoLuVz5EX37",
        "outputId": "5be59736-4535-4cbf-aea2-7a4e7b3787c2"
      },
      "execution_count": 28,
      "outputs": [
        {
          "output_type": "stream",
          "name": "stdout",
          "text": [
            "['Chico', 'Buarque']\n"
          ]
        }
      ]
    }
  ]
}