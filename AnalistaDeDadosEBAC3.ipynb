{
  "nbformat": 4,
  "nbformat_minor": 0,
  "metadata": {
    "colab": {
      "provenance": [],
      "authorship_tag": "ABX9TyPTG3W6Xjj4cTB4Q81dUe1E",
      "include_colab_link": true
    },
    "kernelspec": {
      "name": "python3",
      "display_name": "Python 3"
    },
    "language_info": {
      "name": "python"
    }
  },
  "cells": [
    {
      "cell_type": "markdown",
      "metadata": {
        "id": "view-in-github",
        "colab_type": "text"
      },
      "source": [
        "<a href=\"https://colab.research.google.com/github/frandalmolin/to-remember/blob/main/AnalistaDeDadosEBAC3.ipynb\" target=\"_parent\"><img src=\"https://colab.research.google.com/assets/colab-badge.svg\" alt=\"Open In Colab\"/></a>"
      ]
    },
    {
      "cell_type": "code",
      "execution_count": null,
      "metadata": {
        "id": "zQjC1NzvTDGb"
      },
      "outputs": [],
      "source": [
        "if True:\n",
        "  print('verdadeiro');\n",
        "else:\n",
        "  print('falso');"
      ]
    },
    {
      "cell_type": "code",
      "source": [
        "codigo_de_seguranca = '010';\n",
        "codigo_de_seguranca_cadastro = '010';\n",
        "pode_efetuar_pagamento= codigo_de_seguranca == codigo_de_seguranca_cadastro;\n",
        "\n",
        "\n",
        "if pode_efetuar_pagamento:\n",
        "  print('Pagamento efetuado com sucesso!');\n",
        "else:\n",
        "  print('Erro: código de segurança inválido');\n",
        "\n",
        "\n",
        "if codigo_de_seguranca == codigo_de_seguranca_cadastro:\n",
        "  print('Pagamento efetuado com sucesso!');\n",
        "else:\n",
        "  print('Erro: código de segurança inválido');"
      ],
      "metadata": {
        "id": "wKdYy_JxWoUZ"
      },
      "execution_count": null,
      "outputs": []
    },
    {
      "cell_type": "code",
      "source": [
        "codigo_de_seguranca = '852';\n",
        "codigo_de_seguranca_cadastro = '822';\n",
        "\n",
        "senha = '7783';\n",
        "senha_cadastro = '7783';\n",
        "\n",
        "if (codigo_de_seguranca == codigo_de_seguranca_cadastro) & (senha == senha_cadastro):\n",
        "  print('Pagamento efetuado!');\n",
        "else:\n",
        "  print('Pagamento não efetuado.');\n",
        "\n",
        "if (codigo_de_seguranca != codigo_de_seguranca_cadastro) | (senha != senha_cadastro):\n",
        "  print('Pagamento não efetuado!');\n",
        "else:\n",
        "  print('Pagamento efetuado.');"
      ],
      "metadata": {
        "id": "skvov1adXn3V"
      },
      "execution_count": null,
      "outputs": []
    },
    {
      "cell_type": "code",
      "source": [
        "codigo_de_seguranca = '852';\n",
        "codigo_de_seguranca_cadastro = '852';\n",
        "\n",
        "senha = '773';\n",
        "senha_cadastro = '773';\n",
        "\n",
        "if (codigo_de_seguranca == codigo_de_seguranca_cadastro) & (senha == senha_cadastro):\n",
        "  print('Pagamento efetuado!');\n",
        "elif (codigo_de_seguranca != codigo_de_seguranca_cadastro) & (senha == senha_cadastro):\n",
        "  print('Pagamento não efetuado! Código de segurança inválido.');\n",
        "elif (codigo_de_seguranca == codigo_de_seguranca_cadastro) & (senha != senha_cadastro):\n",
        "  print('Pagamento não efetuado! Senha inválida.');\n",
        "else:\n",
        "  print('Pagamento não efetuado! Código de segurança inválido e senha inválida.');"
      ],
      "metadata": {
        "id": "BR1eCFrkZBTB"
      },
      "execution_count": null,
      "outputs": []
    },
    {
      "cell_type": "code",
      "source": [
        "preco = 132.85;\n",
        "pessoas = 0;\n",
        "\n",
        "valor_por_pessoa = preco / pessoas;\n",
        "\n",
        "print(valor_por_pessoa);"
      ],
      "metadata": {
        "id": "tLPK1h_4aQhN"
      },
      "execution_count": null,
      "outputs": []
    },
    {
      "cell_type": "code",
      "source": [
        "preco = 132.85;\n",
        "pessoas = 0;\n",
        "\n",
        "try:\n",
        "  valor_por_pessoa = preco / pessoas;\n",
        "  print(valor_por_pessoa);\n",
        "except ZeroDivisionError:\n",
        "  print('Número de pessoas inválido!');\n"
      ],
      "metadata": {
        "id": "WnZ-DhE_cWDy"
      },
      "execution_count": null,
      "outputs": []
    },
    {
      "cell_type": "code",
      "source": [
        "nome = 'Andre';\n",
        "idade = 19;\n",
        "\n",
        "apresentacao = 'Boa tarde! meu nome é ' + nome + 'e eu tenho ' + idade + 'anos.';\n",
        "\n",
        "print(apresentacao);"
      ],
      "metadata": {
        "id": "JzEOch0lavpC"
      },
      "execution_count": null,
      "outputs": []
    },
    {
      "cell_type": "code",
      "source": [
        "nome = 'Andre';\n",
        "idade = 19;\n",
        "\n",
        "try:\n",
        "  apresentacao = 'Boa tarde! Meu nome é ' + nome + 'e eu tenho ' + idade + ' anos.';\n",
        "  print(apresentacao);\n",
        "except TypeError:\n",
        "  idade = str(idade);\n",
        "finally:\n",
        "  print('Segunda chance');\n",
        "  apresentacao = 'Boa tarde! Meu nome é ' + nome + 'e eu tenho ' + idade + ' anos.';\n",
        "  print(apresentacao);"
      ],
      "metadata": {
        "id": "IudOYFQ1eHvP"
      },
      "execution_count": null,
      "outputs": []
    },
    {
      "cell_type": "code",
      "source": [
        "anos = [2019, 2020, 2021];\n",
        "ano_atual = anos[3];\n",
        "\n",
        "print(ano_atual);"
      ],
      "metadata": {
        "id": "VX1-XfcTbkrM"
      },
      "execution_count": null,
      "outputs": []
    },
    {
      "cell_type": "code",
      "source": [
        "anos = [2019, 2020, 2021];\n",
        "\n",
        "try:\n",
        "  ano_atual = anos[3];\n",
        "  print(ano_atual);\n",
        "except Exception:\n",
        "  print('Lista de anos menor do que o ano escolhido.');"
      ],
      "metadata": {
        "id": "a7TG6QxTbxRY"
      },
      "execution_count": null,
      "outputs": []
    },
    {
      "cell_type": "code",
      "source": [
        "anos = [2019, 2020, 2021];\n",
        "\n",
        "try:\n",
        "  ano_atual = anos[3];\n",
        "  print(ano_atual);\n",
        "except IndexError:\n",
        "  print('Lista de anos menor do que o ano escolhido.');\n",
        "except Exception as exc:\n",
        "  print(exc);\n",
        "  print('Erro genérico.')"
      ],
      "metadata": {
        "id": "lp7qVbO5dwuQ"
      },
      "execution_count": null,
      "outputs": []
    },
    {
      "cell_type": "code",
      "source": [
        "for valor in range(6):\n",
        "  print(valor);"
      ],
      "metadata": {
        "id": "d1HA4DGHjG9i"
      },
      "execution_count": null,
      "outputs": []
    },
    {
      "cell_type": "code",
      "source": [
        "soma = 0;\n",
        "\n",
        "for valor in range(0, 10):\n",
        "  soma = soma + valor;\n",
        "\n",
        "print(soma);"
      ],
      "metadata": {
        "id": "ZvcuLiCqjapy"
      },
      "execution_count": null,
      "outputs": []
    },
    {
      "cell_type": "code",
      "source": [
        "for multiplo_dois in range (2, 10, 2):\n",
        "  print(multiplo_dois);"
      ],
      "metadata": {
        "id": "-Pe8C3b7kfz3"
      },
      "execution_count": null,
      "outputs": []
    },
    {
      "cell_type": "code",
      "source": [
        "frutas = ['maçã', 'banana', 'laranja', 'uva', 'pêra'];\n",
        "\n",
        "for fruta in frutas:\n",
        "  print(fruta);"
      ],
      "metadata": {
        "id": "iaUkpeNWlg_5"
      },
      "execution_count": null,
      "outputs": []
    },
    {
      "cell_type": "code",
      "source": [
        "frase = 'Fala pessoal, eu sou a Fran.';\n",
        "\n",
        "for caracter in frase:\n",
        "  if (caracter == 'F') | (caracter == 'n'):\n",
        "    print(f'A letra \"{caracter}\" está presenhte na frase');"
      ],
      "metadata": {
        "id": "2CKzDLebl-2d"
      },
      "execution_count": null,
      "outputs": []
    },
    {
      "cell_type": "code",
      "source": [
        "credito = {'123': 750, '456': 812, '789': 980};\n",
        "\n",
        "for chave, valor in credito.items():\n",
        "  print(f'Para o documento {chave}, o valor do score de crédito é {valor}.');\n",
        "  print('\\n');\n",
        "\n",
        "\n",
        "for chave in credito.keys():\n",
        "  print(chave);\n",
        "  print(credito[chave]);\n",
        "\n",
        "for chave in credito.values():\n",
        "  print(valor);\n"
      ],
      "metadata": {
        "id": "D-PBtAD6nNDP"
      },
      "execution_count": null,
      "outputs": []
    },
    {
      "cell_type": "code",
      "source": [
        "for i in range(0, 10*10*10*10*10*10):\n",
        "  print(i);\n",
        "  if i == 10:\n",
        "    break;"
      ],
      "metadata": {
        "id": "8HXjMhDuoT05"
      },
      "execution_count": null,
      "outputs": []
    },
    {
      "cell_type": "code",
      "source": [
        "numero = 3;\n",
        "\n",
        "if numero % 2 == 0:\n",
        "  print( f'o número {numero} é par');\n",
        "else:\n",
        "  print( f'o número {numero} é impar');"
      ],
      "metadata": {
        "id": "4yhPDuOXomlj"
      },
      "execution_count": null,
      "outputs": []
    },
    {
      "cell_type": "code",
      "source": [
        "numeros = [361, 553, 194, 13, 510, 33, 135];\n",
        "\n",
        "for numero in numeros:\n",
        "\n",
        "  if numero % 2 == 0:\n",
        "    print( f'o número {numero} é par');\n",
        "    break;\n",
        "  else:\n",
        "    print( f'o número {numero} é impar');"
      ],
      "metadata": {
        "id": "jy_myr7Cpeml"
      },
      "execution_count": null,
      "outputs": []
    },
    {
      "cell_type": "code",
      "source": [
        "numeros = [361, 553, 194, 13, 510, 33, 135];\n",
        "\n",
        "for numero in numeros:\n",
        "\n",
        "  if numero % 2 == 0:\n",
        "    print( f'o número {numero} é par');\n",
        "    break;\n",
        "  else:\n",
        "    continue\n",
        "    print( f'o número {numero} é impar');"
      ],
      "metadata": {
        "id": "w_uRmWL_pNK0"
      },
      "execution_count": null,
      "outputs": []
    },
    {
      "cell_type": "markdown",
      "source": [
        "Exercícios"
      ],
      "metadata": {
        "id": "mPKAOkrwJ_mK"
      }
    },
    {
      "cell_type": "code",
      "source": [
        "propaganda_online = [\n",
        " {\n",
        " 'tempo_gasto_site': 68.95, 'idade': 35,\n",
        " 'renda_area': 61833.90, 'tempo_gasto_internet': 256.09,\n",
        " 'cidade': 'Wrightburgh', 'pais': 'Tunisia',\n",
        " 'clicou_no_ad': 0\n",
        " },\n",
        " {\n",
        " 'tempo_gasto_site': 80.23, 'idade': 31,\n",
        " 'renda_area': 68441.85, 'tempo_gasto_internet': 193.77,\n",
        " 'cidade': 'West Jodi', 'pais': 'Nauru',\n",
        " 'clicou_no_ad': 0\n",
        " },\n",
        " {\n",
        " 'tempo_gasto_site': 69.47, 'idade': 26,\n",
        " 'renda_area': 59785.94, 'tempo_gasto_internet': 236.50,\n",
        " 'cidade': 'Davidton', 'pais': 'San Marino',\n",
        " 'clicou_no_ad': 0\n",
        " },\n",
        " {\n",
        " 'tempo_gasto_site': 68.37, 'idade': 35,\n",
        " 'renda_area': 73889.99, 'tempo_gasto_internet': 225.58,\n",
        " 'cidade': 'South Manuel', 'pais': 'Iceland',\n",
        " 'clicou_no_ad': 0\n",
        " },\n",
        " {\n",
        " 'tempo_gasto_site': 88.91, 'idade': 33,\n",
        " 'renda_area': 53852.85, 'tempo_gasto_internet': 208.36,\n",
        " 'cidade': 'Brandonstad', 'pais': 'Myanmar',\n",
        " 'clicou_no_ad': 0\n",
        " },\n",
        " {\n",
        " 'tempo_gasto_site': None, 'idade': 48,\n",
        " 'renda_area': 24593.33, 'tempo_gasto_internet': 131.76,\n",
        " 'cidade': 'Port Jefferybury', 'pais': 'Australia',\n",
        " 'clicou_no_ad': 1\n",
        " },\n",
        " {\n",
        " 'tempo_gasto_site': 74.53, 'idade': 30,\n",
        " 'renda_area': 68862.00, 'tempo_gasto_internet': 221.51,\n",
        " 'cidade': 'West Colin', 'pais': 'Grenada'\n",
        " },\n",
        " {\n",
        " 'tempo_gasto_site': 69.88, 'idade': 20,\n",
        " 'renda_area': 55642.32, 'tempo_gasto_internet': 183.82,\n",
        " 'cidade': 'Ramirezton', 'pais': 'Ghana',\n",
        " 'clicou_no_ad': 0\n",
        " }\n",
        "]\n",
        "\n",
        "paises = [];\n",
        "\n",
        "for dado in propaganda_online:\n",
        "  if dado['idade'] > 30:\n",
        "    paises.append(dado['pais']);\n",
        "print(paises);\n",
        "\n",
        "\n",
        "leads = [];\n",
        "\n",
        "for dado in propaganda_online:\n",
        "    renda = dado['renda_area'];\n",
        "    leads.append(renda);\n",
        "print(leads);\n",
        "\n",
        "\n",
        "cidades = [];\n",
        "\n",
        "for dado in propaganda_online:\n",
        "  if dado['tempo_gasto_site'] != None:\n",
        "    if dado['tempo_gasto_site'] > 70:\n",
        "      cidades.append(dado['cidade']);\n",
        "print(cidades);"
      ],
      "metadata": {
        "colab": {
          "base_uri": "https://localhost:8080/"
        },
        "id": "Nm7m5hckp1Wt",
        "outputId": "ebbb8709-044d-438c-c2ee-b3f3687c5b9f"
      },
      "execution_count": 24,
      "outputs": [
        {
          "output_type": "stream",
          "name": "stdout",
          "text": [
            "['Tunisia', 'Nauru', 'Iceland', 'Myanmar', 'Australia']\n",
            "[61833.9, 68441.85, 59785.94, 73889.99, 53852.85, 24593.33, 68862.0, 55642.32]\n",
            "['West Jodi', 'Brandonstad', 'West Colin']\n"
          ]
        }
      ]
    }
  ]
}