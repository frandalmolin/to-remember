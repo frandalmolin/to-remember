{
  "nbformat": 4,
  "nbformat_minor": 0,
  "metadata": {
    "colab": {
      "provenance": [],
      "authorship_tag": "ABX9TyOQmzlBxaZO9CgGHzkp+0VH",
      "include_colab_link": true
    },
    "kernelspec": {
      "name": "python3",
      "display_name": "Python 3"
    },
    "language_info": {
      "name": "python"
    }
  },
  "cells": [
    {
      "cell_type": "markdown",
      "metadata": {
        "id": "view-in-github",
        "colab_type": "text"
      },
      "source": [
        "<a href=\"https://colab.research.google.com/github/frandalmolin/to-remember/blob/main/AnalitaDeDadosEBAC4.ipynb\" target=\"_parent\"><img src=\"https://colab.research.google.com/assets/colab-badge.svg\" alt=\"Open In Colab\"/></a>"
      ]
    },
    {
      "cell_type": "code",
      "execution_count": 16,
      "metadata": {
        "colab": {
          "base_uri": "https://localhost:8080/"
        },
        "id": "1n9khqgVYUEB",
        "outputId": "e6cc5615-f824-420f-ae2c-5ac7d04455a4"
      },
      "outputs": [
        {
          "output_type": "stream",
          "name": "stdout",
          "text": [
            "Writing banco.csv\n"
          ]
        }
      ],
      "source": [
        "%%writefile banco.csv\n",
        "age,job,marital,education,default,balance,housing,loan\n",
        "30,unemployed,married,primary,no,1787,no,no\n",
        "33,services,married,secondary,no,4789,yes,yes\n",
        "35,management,single,tertiary,no,1350,yes,no\n",
        "30,management,married,tertiary,no,1476,yes,yes\n",
        "59,blue-collar,married,secondary,no,0,yes,no\n",
        "35,management,single,tertiary,no,747,no,no\n",
        "36,self-employed,married,tertiary,no,307,yes,no\n",
        "39,technician,married,secondary,no,147,yes,no\n",
        "41,entrepreneur,married,tertiary,no,221,yes,no\n",
        "43,services,married,primary,no,-88,yes,yes"
      ]
    },
    {
      "cell_type": "code",
      "source": [
        "conteudo = None\n",
        "with open(file='./banco.csv', mode='r', encoding='utf8') as arquivo:\n",
        " conteudo = arquivo.read()\n",
        "print(conteudo)"
      ],
      "metadata": {
        "colab": {
          "base_uri": "https://localhost:8080/"
        },
        "id": "-K-wAm0emlF_",
        "outputId": "a44e8da3-69ef-4aa2-ec23-11c46ede689c"
      },
      "execution_count": 19,
      "outputs": [
        {
          "output_type": "stream",
          "name": "stdout",
          "text": [
            "age,job,marital,education,default,balance,housing,loan\n",
            "30,unemployed,married,primary,no,1787,no,no\n",
            "33,services,married,secondary,no,4789,yes,yes\n",
            "35,management,single,tertiary,no,1350,yes,no\n",
            "30,management,married,tertiary,no,1476,yes,yes\n",
            "59,blue-collar,married,secondary,no,0,yes,no\n",
            "35,management,single,tertiary,no,747,no,no\n",
            "36,self-employed,married,tertiary,no,307,yes,no\n",
            "39,technician,married,secondary,no,147,yes,no\n",
            "41,entrepreneur,married,tertiary,no,221,yes,no\n",
            "43,services,married,primary,no,-88,yes,yes\n",
            "\n"
          ]
        }
      ]
    },
    {
      "cell_type": "code",
      "source": [
        "conteudo = []\n",
        "\n",
        "with open(file='./banco.csv', mode='r', encoding='utf8') as arquivo:\n",
        " linha = arquivo.readline()\n",
        " while linha:\n",
        "  conteudo.append(linha)\n",
        "  linha = arquivo.readline()\n",
        "\n",
        "print(conteudo)"
      ],
      "metadata": {
        "colab": {
          "base_uri": "https://localhost:8080/"
        },
        "id": "fVjeCcH5mu3P",
        "outputId": "2d7350a0-4835-4c3c-dd29-b4b66deead9c"
      },
      "execution_count": 23,
      "outputs": [
        {
          "output_type": "stream",
          "name": "stdout",
          "text": [
            "['age,job,marital,education,default,balance,housing,loan\\n', '30,unemployed,married,primary,no,1787,no,no\\n', '33,services,married,secondary,no,4789,yes,yes\\n', '35,management,single,tertiary,no,1350,yes,no\\n', '30,management,married,tertiary,no,1476,yes,yes\\n', '59,blue-collar,married,secondary,no,0,yes,no\\n', '35,management,single,tertiary,no,747,no,no\\n', '36,self-employed,married,tertiary,no,307,yes,no\\n', '39,technician,married,secondary,no,147,yes,no\\n', '41,entrepreneur,married,tertiary,no,221,yes,no\\n', '43,services,married,primary,no,-88,yes,yes\\n']\n"
          ]
        }
      ]
    },
    {
      "cell_type": "code",
      "source": [
        "for linha in conteudo:\n",
        "  print(linha)"
      ],
      "metadata": {
        "colab": {
          "base_uri": "https://localhost:8080/"
        },
        "id": "aEn2J5Odndu5",
        "outputId": "53bd5830-ab4d-4d96-f890-346ee3f3bd5e"
      },
      "execution_count": 26,
      "outputs": [
        {
          "output_type": "stream",
          "name": "stdout",
          "text": [
            "age,job,marital,education,default,balance,housing,loan\n",
            "\n",
            "30,unemployed,married,primary,no,1787,no,no\n",
            "\n",
            "33,services,married,secondary,no,4789,yes,yes\n",
            "\n",
            "35,management,single,tertiary,no,1350,yes,no\n",
            "\n",
            "30,management,married,tertiary,no,1476,yes,yes\n",
            "\n",
            "59,blue-collar,married,secondary,no,0,yes,no\n",
            "\n",
            "35,management,single,tertiary,no,747,no,no\n",
            "\n",
            "36,self-employed,married,tertiary,no,307,yes,no\n",
            "\n",
            "39,technician,married,secondary,no,147,yes,no\n",
            "\n",
            "41,entrepreneur,married,tertiary,no,221,yes,no\n",
            "\n",
            "43,services,married,primary,no,-88,yes,yes\n",
            "\n"
          ]
        }
      ]
    },
    {
      "cell_type": "code",
      "source": [
        "idades = []\n",
        "\n",
        "with open (file='./banco.csv', mode='r', encoding='utf8') as arquivo:\n",
        "  linha = arquivo.readline()\n",
        "  linha = arquivo.readline()\n",
        "  while linha:\n",
        "    linha_separada = linha.split(sep=',')\n",
        "    idade = linha_separada[0]\n",
        "    idade = int(idade)\n",
        "    idades.append(idade)\n",
        "    linha = arquivo.readline()\n",
        "\n",
        "print(idades)"
      ],
      "metadata": {
        "colab": {
          "base_uri": "https://localhost:8080/"
        },
        "id": "fWTXU61Cnvpm",
        "outputId": "c5b7f8bf-2789-4b69-c4e4-8eccdc0fb90a"
      },
      "execution_count": 27,
      "outputs": [
        {
          "output_type": "stream",
          "name": "stdout",
          "text": [
            "[30, 33, 35, 30, 59, 35, 36, 39, 41, 43]\n"
          ]
        }
      ]
    },
    {
      "cell_type": "code",
      "source": [
        "with open(file='idades.csv', mode='w', encoding='utf8') as fp:\n",
        "  linha = 'idade' + '\\n'\n",
        "  fp.write(linha)\n",
        "  for idade in idades:\n",
        "    linha = str(idade) + '\\n'\n",
        "    fp.write(linha)"
      ],
      "metadata": {
        "id": "rFwBvrjfqnLQ"
      },
      "execution_count": 37,
      "outputs": []
    },
    {
      "cell_type": "code",
      "source": [
        "with open(file='idades.csv', mode='a', encoding='utf8') as fp:\n",
        " for idade in idades:\n",
        "  linha = str(idade + 100) + '\\n'\n",
        "  fp.write(linha)"
      ],
      "metadata": {
        "id": "nEBDDThcrS4n"
      },
      "execution_count": 38,
      "outputs": []
    },
    {
      "cell_type": "code",
      "source": [
        "valor_inicial, taxa_juros_anual, anos = 1000.00, 0.05, 10\n",
        "valor_final = valor_inicial\n",
        "for ano in range(1, anos+1):\n",
        " valor_final = valor_final * (1 + taxa_juros_anual)\n",
        "valor_final = round(valor_final, 2)\n",
        "print(\n",
        " f'Para um valor inicial de R$ {valor_inicial} ' +\n",
        " ' e uma taxa de juros anual de {taxa_juros_anual}, ' +\n",
        " 'em {anos} anos você terá R$ {valor_final}'\n",
        ")\n",
        "valor_inicial, taxa_juros_anual, anos = 1020.00, 0.03, 10\n",
        "valor_final = valor_inicial\n",
        "for ano in range(1, anos+1):\n",
        " valor_final = valor_final * (1 + taxa_juros_anual)\n",
        "valor_final = round(valor_final, 2)\n",
        "print(\n",
        " f'Para um valor inicial de R$ {valor_inicial} ' +\n",
        " 'e uma taxa de juros anual de {taxa_juros_anual}, ' +\n",
        " 'em {anos} anos você terá R$ {valor_final}'\n",
        ")\n"
      ],
      "metadata": {
        "colab": {
          "base_uri": "https://localhost:8080/"
        },
        "id": "rtUjARbix07E",
        "outputId": "6399d47d-2168-4173-89d6-809fb4078263"
      },
      "execution_count": 39,
      "outputs": [
        {
          "output_type": "stream",
          "name": "stdout",
          "text": [
            "Para um valor inicial de R$ 1000.0  e uma taxa de juros anual de {taxa_juros_anual}, em {anos} anos você terá R$ {valor_final}\n",
            "Para um valor inicial de R$ 1020.0 e uma taxa de juros anual de {taxa_juros_anual}, em {anos} anos você terá R$ {valor_final}\n"
          ]
        }
      ]
    },
    {
      "cell_type": "code",
      "source": [
        "def juros_compostos_anual (valor_inicial: float, taxa_juros_anual: float, anos: int) -> float:\n",
        "  valor_final = valor_inicial\n",
        "  for ano in range(1, anos+1):\n",
        "    valor_final = valor_final * (1 + taxa_juros_anual)\n",
        "  valor_final = round(valor_final, 2)\n",
        "  print(f'Para um valor inicial de R$ {valor_inicial} ' +\n",
        " 'e uma taxa de juros anual de {taxa_juros_anual}, ' +\n",
        " 'em {anos} anos você terá R$ {valor_final}')\n",
        "  return valor_final\n",
        "\n",
        "valor_inicial, taxa_juros_anual, anos = 1000.00, 0.05, 10\n",
        "valor_final = juros_compostos_anual(valor_inicial=valor_inicial, taxa_juros_anual=taxa_juros_anual, anos=anos)\n",
        "\n",
        "valor_inicial, taxa_juros_anual, anos = 1020.00, 0.03, 10\n",
        "valor_final = juros_compostos_anual(valor_inicial=valor_inicial, taxa_juros_anual=taxa_juros_anual, anos=anos)"
      ],
      "metadata": {
        "colab": {
          "base_uri": "https://localhost:8080/"
        },
        "id": "p1uE69C_4kRG",
        "outputId": "7f30ebb4-20d2-4da6-b482-78e0ed750340"
      },
      "execution_count": 51,
      "outputs": [
        {
          "output_type": "stream",
          "name": "stdout",
          "text": [
            "Para um valor inicial de R$ 1000.0 e uma taxa de juros anual de {taxa_juros_anual}, em {anos} anos você terá R$ {valor_final}\n",
            "Para um valor inicial de R$ 1020.0 e uma taxa de juros anual de {taxa_juros_anual}, em {anos} anos você terá R$ {valor_final}\n"
          ]
        }
      ]
    },
    {
      "cell_type": "code",
      "source": [
        "def imprime(mensagem: str):\n",
        "  print(mensagem)\n",
        "\n",
        "texto = 'Olá eu sou a Fran!'\n",
        "\n",
        "imprime(mensagem=texto)"
      ],
      "metadata": {
        "colab": {
          "base_uri": "https://localhost:8080/"
        },
        "id": "UpOp0OZpyhTb",
        "outputId": "acfeae75-1fda-4b35-b5e5-354c8ea713d8"
      },
      "execution_count": 41,
      "outputs": [
        {
          "output_type": "stream",
          "name": "stdout",
          "text": [
            "Olá eu sou a Fran!\n"
          ]
        }
      ]
    },
    {
      "cell_type": "code",
      "source": [
        "def maiusculo(texto:str) -> str:\n",
        "  text_maiusculo = texto.upper()\n",
        "  return text_maiusculo\n",
        "\n",
        "nome = 'Fran Santos'\n",
        "print(nome)\n",
        "\n",
        "nome_maiusculo = maiusculo(texto=nome)\n",
        "print(nome_maiusculo)"
      ],
      "metadata": {
        "colab": {
          "base_uri": "https://localhost:8080/"
        },
        "id": "Qp99ZbuWzk_9",
        "outputId": "88f68d92-7618-4ab2-e3be-cea0031ca176"
      },
      "execution_count": 42,
      "outputs": [
        {
          "output_type": "stream",
          "name": "stdout",
          "text": [
            "Fran Santos\n",
            "FRAN SANTOS\n"
          ]
        }
      ]
    },
    {
      "cell_type": "code",
      "source": [
        "def extrair_usuario_email_provedor(email:str) -> (str, str):\n",
        "  email_separado = email.split(sep='@')\n",
        "  usuario = email_separado[0]\n",
        "  provedor = email_separado[1]\n",
        "  return usuario, provedor\n",
        "\n",
        "email = 'fran.santos@gmail.com'\n",
        "usuario,provedor = extrair_usuario_email_provedor(email=email)\n",
        "print(usuario)\n",
        "print(provedor)"
      ],
      "metadata": {
        "colab": {
          "base_uri": "https://localhost:8080/"
        },
        "id": "rDUStm060q8u",
        "outputId": "da417ce3-8c9d-45ec-cc77-8bb8c3485ba1"
      },
      "execution_count": 44,
      "outputs": [
        {
          "output_type": "stream",
          "name": "stdout",
          "text": [
            "fran.santos\n",
            "gmail.com\n"
          ]
        }
      ]
    },
    {
      "cell_type": "code",
      "source": [
        "def pi() -> float:\n",
        "  return 3.14159265359\n",
        "\n",
        "pi = pi()\n",
        "print(pi)"
      ],
      "metadata": {
        "colab": {
          "base_uri": "https://localhost:8080/"
        },
        "id": "ZAuRNBy12rDI",
        "outputId": "cab7fd14-0892-431d-bfb1-7492a3756a66"
      },
      "execution_count": 45,
      "outputs": [
        {
          "output_type": "stream",
          "name": "stdout",
          "text": [
            "3.14159265359\n"
          ]
        }
      ]
    },
    {
      "cell_type": "code",
      "source": [
        "def escreve_arquivo_csv (nome:str, cabecalho:str, conteudos:list) -> bool:\n",
        "  try:\n",
        "    with open(file=nome, mode='w', encoding='utf8') as fp:\n",
        "      linha = cabecalho + '\\n'\n",
        "      fp.write(linha)\n",
        "      for conteudo in conteudos:\n",
        "        linha = cabecalho + '\\n'\n",
        "        fp.write(linha)\n",
        "        for conteudo in conteudos:\n",
        "          linha = str(conteudo) + '\\n'\n",
        "          fp.write(linha)\n",
        "\n",
        "  except Exception as exc:\n",
        "    print(exc)\n",
        "    return False\n",
        "\n",
        "  return True\n",
        "\n",
        "\n",
        "nome = 'idades-funcao-erro.csv'\n",
        "cabecalho = 'idade'\n",
        "conteudos = [30, 33, 35, 30, 59, 35, 36, 39, 41, 43]\n",
        "\n",
        "escreveu_com_sucesso =escreve_arquivo_csv(nome=nome, cabecalho=cabecalho, conteudos=conteudos)\n",
        "print(escreveu_com_sucesso)"
      ],
      "metadata": {
        "colab": {
          "base_uri": "https://localhost:8080/"
        },
        "id": "9PZGA7jP21V-",
        "outputId": "2092dd48-487e-4afc-c0c3-46941847ca7b"
      },
      "execution_count": 46,
      "outputs": [
        {
          "output_type": "stream",
          "name": "stdout",
          "text": [
            "True\n"
          ]
        }
      ]
    },
    {
      "cell_type": "code",
      "source": [
        "def soma_lista (numeros:list) -> int:\n",
        "  s = 0\n",
        "  for numero in numeros:\n",
        "    s = s + numero\n",
        "  return s\n",
        "\n",
        "soma = soma_lista(numeros = [2] * 20)\n",
        "print(soma)\n",
        "\n"
      ],
      "metadata": {
        "colab": {
          "base_uri": "https://localhost:8080/"
        },
        "id": "kvEUWXjW7gdU",
        "outputId": "a73e6ebd-3100-4e89-b891-d579b2d9d333"
      },
      "execution_count": 55,
      "outputs": [
        {
          "output_type": "stream",
          "name": "stdout",
          "text": [
            "40\n"
          ]
        }
      ]
    }
  ]
}